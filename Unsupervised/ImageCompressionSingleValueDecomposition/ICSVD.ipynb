{
 "cells": [
  {
   "cell_type": "markdown",
   "metadata": {},
   "source": [
    "# Image Compression Using SVD\n",
    "\n",
    "Image compression using Singular Value Decomposition (SVD) is a powerful technique from linear algebra that reduces the dimensionality of image data while retaining as much information as possible. Here’s a breakdown of how it works and how it’s implemented:\n",
    "\n",
    "## **SVD of a Matrix**\n",
    "\n",
    "For an image represented as a matrix \\( A \\) (a grayscale image with values between 0 and 255), the Singular Value Decomposition (SVD) is defined as:\n",
    "\n",
    "\\[\n",
    "A = U \\Sigma V^T\n",
    "\\]\n",
    "\n",
    "- **\\( U \\) and \\( V \\):** Orthogonal matrices.  \n",
    "- **\\( \\Sigma \\):** Diagonal matrix of singular values, sorted in descending order.\n",
    "\n",
    "---\n",
    "\n",
    "### **Importance of Singular Values**\n",
    "The singular values in \\( \\Sigma \\) indicate the **amount of variance (or energy)** each contributes to the matrix.  \n",
    "- **Larger singular values**: More significant in reconstructing the original image.\n",
    "\n",
    "---\n",
    "\n",
    "### **Compression via Truncation**\n",
    "\n",
    "To compress the image:\n",
    "1. Keep only the top \\( k \\) singular values (the most significant).\n",
    "2. Approximate the original image \\( A \\) as:\n",
    "\n",
    "\\[\n",
    "A_k = U_k \\Sigma_k V_k^T\n",
    "\\]\n",
    "\n",
    "Where:\n",
    "- \\( U_k \\): The first \\( k \\) columns of\n",
    "\n"
   ]
  },
  {
   "cell_type": "markdown",
   "metadata": {},
   "source": [
    "## **Key Components of the Code**\n",
    "\n",
    "1. **Loading the Image**  \n",
    "   - Convert the image to grayscale for simplicity.\n",
    "\n",
    "2. **SVD Decomposition**  \n",
    "   - Use `np.linalg.svd` to compute:  \n",
    "     \\[\n",
    "     A = U \\Sigma V^T\n",
    "     \\]\n",
    "\n",
    "3. **Truncation**  \n",
    "   - Keep only the top \\( k \\) singular values and their corresponding matrices \\( U_k \\), \\( \\Sigma_k \\), and \\( V_k^T \\).\n",
    "\n",
    "4. **Reconstruction**  \n",
    "   - Approximate the original image using the truncated matrices:  \n",
    "     \\[\n",
    "     A_k = U_k \\Sigma_k V_k^T\n",
    "     \\]\n",
    "\n",
    "---\n",
    "\n",
    "## **How It Compresses Images**\n",
    "\n",
    "### **1. Data Reduction**  \n",
    "- Storing \\( U_k \\), \\( \\Sigma_k \\), and \\( V_k^T \\) requires far fewer values compared to the original image matrix.\n",
    "\n",
    "### **2. Quality vs. Compression Tradeoff**  \n",
    "- **Low \\( k \\):** High compression, but lower image quality.  \n",
    "- **Higher \\( k \\):** Less compression, but better visual reconstruction.\n",
    "\n",
    "---\n",
    "\n",
    "## **Additional Notes**\n",
    "- This method works well for images with smooth regions and low detail.\n",
    "- For **colored images**, the process is repeated for each color channel (**R, G, B**) independently.\n",
    "\n",
    "---\n",
    "\n",
    "### **Summary**\n",
    "- Increasing \\( k \\) improves image quality but reduces compression efficiency.\n",
    "- Balancing **quality** and **size** is key for effective image compression.\n"
   ]
  },
  {
   "cell_type": "markdown",
   "metadata": {},
   "source": [
    "## Section 1: Black and white Images\n",
    "\n"
   ]
  },
  {
   "cell_type": "code",
   "execution_count": 1,
   "metadata": {},
   "outputs": [],
   "source": [
    "# Importing the necessary libraries\n",
    "\n",
    "from skimage import io\n",
    "import matplotlib.pyplot as plt\n",
    "import numpy as np\n",
    "from ipywidgets import interact, interactive, interact_manual\n",
    "import ipywidgets as widgets\n",
    "from IPython.display import display\n",
    "%matplotlib inline"
   ]
  },
  {
   "cell_type": "code",
   "execution_count": 2,
   "metadata": {},
   "outputs": [],
   "source": [
    "# Reading in the images in grayscale. Using the same set of images for both Black and White and Color image compression\n",
    "\n",
    "bw_images = {\n",
    "    \"Bird\" : io.imread('./images/Bird.jpg', as_gray=True),\n",
    "    \"Chandelier\" : io.imread('./images/Chandelier.jpg', as_gray=True),\n",
    "    \"Flowers\" : io.imread('./images/Flowers.jpg', as_gray=True),\n",
    "    \"Tree\" : io.imread('./images/Tree.jpg', as_gray=True),\n",
    "    \"Waterfall\" : io.imread('./images/Waterfall.jpg', as_gray=True)\n",
    "}"
   ]
  },
  {
   "cell_type": "code",
   "execution_count": 3,
   "metadata": {},
   "outputs": [
    {
     "data": {
      "application/vnd.jupyter.widget-view+json": {
       "model_id": "3c4a916b074d44018f939135260612dc",
       "version_major": 2,
       "version_minor": 0
      },
      "text/plain": [
       "interactive(children=(Dropdown(description='Image_Name', options=('Bird', 'Chandelier', 'Flowers', 'Tree', 'Wa…"
      ]
     },
     "metadata": {},
     "output_type": "display_data"
    },
    {
     "data": {
      "text/plain": [
       "<function __main__.show_bw_images(Image_Name)>"
      ]
     },
     "execution_count": 3,
     "metadata": {},
     "output_type": "execute_result"
    }
   ],
   "source": [
    "# Showing image in widgets\n",
    "\n",
    "def show_bw_images(Image_Name):\n",
    "    fig = plt.figure(figsize=(18, 18))\n",
    "    plt.title(\"Image Name: \"+Image_Name+\"\\n\")\n",
    "    plt.imshow(bw_images[Image_Name], cmap = plt.cm.gray)  # picking the right color scale for display \n",
    "    plt.axis('off')\n",
    "    plt.show()\n",
    "    \n",
    "interact(show_bw_images, Image_Name = list(bw_images.keys()))\n"
   ]
  },
  {
   "cell_type": "code",
   "execution_count": 4,
   "metadata": {},
   "outputs": [
    {
     "name": "stdout",
     "output_type": "stream",
     "text": [
      "Bird - (5184, 3456)\n",
      "Chandelier - (3415, 5122)\n",
      "Flowers - (7329, 5497)\n",
      "Tree - (6000, 4000)\n",
      "Waterfall - (3334, 5000)\n"
     ]
    }
   ],
   "source": [
    "# Checking the dimensions of each image to give an idea of how many singular values are present\n",
    "\n",
    "for image in bw_images.keys():\n",
    "    print(f\"{image} - {bw_images[image].shape}\")"
   ]
  },
  {
   "cell_type": "code",
   "execution_count": null,
   "metadata": {},
   "outputs": [],
   "source": [
    "def compress_bw_image(Image_Name, k): \n",
    "    \n",
    "    \n",
    "    \n",
    "   \n",
    "    \n",
    "    \n",
    "    \n",
    "    # Performing SVD and the compression\n",
    "    U, S, V = np.linalg.svd(bw_images[Image_Name], full_matrices = False)\n",
    "    u = U[:, 0:k]\n",
    "    v = V[0:k]\n",
    "    compressed_image = u @ np.diag(S[0:k]) @ v\n",
    "    \n",
    "    # fig = plt.figure(figsize=(18, 18))\n",
    "    # fig.add_subplot(1, 2, 1)\n",
    "    # plt.plot(S)\n",
    "    # fig.add_subplot(1, 2, 2)\n",
    "    # plt.plot(S)\n",
    "    # plt.yscale('log')\n",
    "    \n",
    "    # anaysis \n",
    "    plt.figure(figsize=[16,6])\n",
    "    plt.semilogy(S)\n",
    "    plt.title(\"Singular values\")\n",
    "    plt.show()\n",
    "\n",
    "    plt.figure(figsize=[16,6])\n",
    "    plt.plot(np.cumsum(S)/np.sum(S))\n",
    "    plt.plot(200, np.sum(np.diag(S[:200,:200]))/np.sum(S), marker='*', ls='none', ms=20, label='line with select markers')\n",
    "    plt.title(\"Singular values cummulative sum\")\n",
    "    plt.show()\n",
    "    \n",
    "    \n",
    "    fig = plt.figure(figsize=(18, 18))\n",
    "    # Showing the original image\n",
    "    fig.add_subplot(1, 2, 1)\n",
    "    plt.title(f\"Original Image - {Image_Name}\")\n",
    "    plt.imshow(bw_images[Image_Name], cmap = plt.cm.gray)\n",
    "    plt.axis('off')\n",
    "    \n",
    "    # Showing the compressed image\n",
    "    fig.add_subplot(1, 2, 2)\n",
    "    plt.title(f\"Compressed Image - {Image_Name} (Top {k} Singular values)\")\n",
    "    plt.imshow(compressed_image, cmap = plt.cm.gray)\n",
    "    plt.axis('off')\n",
    "    plt.show()\n",
    "    \n",
    "    # Showing the compression ratio\n",
    "    dim1 = bw_images[Image_Name].shape\n",
    "    size1 = dim1[0]*dim1[1]\n",
    "    print(f\"Original Image Size (in pixels)- {size1}\")\n",
    "    size2 = min(dim1)*k + k + k*max(dim1)\n",
    "    print(f\"Compressed Image Size (in pixels)- {size2}\")\n",
    "    ratio = round(size1/size2,2)\n",
    "    print(f\"Compression Ratio - {ratio}\")    \n",
    "\n",
    "    \n",
    "    \n",
    "interact(compress_bw_image, Image_Name = list(bw_images.keys()), k = (0,600))"
   ]
  },
  {
   "cell_type": "code",
   "execution_count": 19,
   "metadata": {},
   "outputs": [
    {
     "data": {
      "application/vnd.jupyter.widget-view+json": {
       "model_id": "7f3209d250c34ffaa988eb72b5b67eb4",
       "version_major": 2,
       "version_minor": 0
      },
      "text/plain": [
       "interactive(children=(Dropdown(description='Image_Name', options=('Bird', 'Chandelier', 'Flowers', 'Tree', 'Wa…"
      ]
     },
     "metadata": {},
     "output_type": "display_data"
    },
    {
     "data": {
      "text/plain": [
       "<function __main__.compress_bw_image(Image_Name, k)>"
      ]
     },
     "execution_count": 19,
     "metadata": {},
     "output_type": "execute_result"
    }
   ],
   "source": [
    "import numpy as np\n",
    "import matplotlib.pyplot as plt\n",
    "from ipywidgets import interact\n",
    "\n",
    "# Precompute the SVD of all images and store them in a dictionary (called when notebook is initialized)\n",
    "svd_cache = {}\n",
    "\n",
    "def compute_svd(Image_Name):\n",
    "    \"\"\"\n",
    "    Computes the Singular Value Decomposition (SVD) of the image and caches the result.\n",
    "    \n",
    "    Parameters:\n",
    "    Image_Name (str): The name of the image from the `bw_images` dictionary.\n",
    "    \"\"\"\n",
    "    if Image_Name not in svd_cache:\n",
    "        U, S, Vt = np.linalg.svd(bw_images[Image_Name], full_matrices=False)\n",
    "        svd_cache[Image_Name] = (U, S, Vt)\n",
    "\n",
    "def compress_bw_image(Image_Name, k): \n",
    "    \"\"\"\n",
    "    Compresses a black and white image using SVD by retaining the top k singular values\n",
    "    and plots the analysis, original, and compressed images.\n",
    "    \n",
    "    Parameters:\n",
    "    Image_Name (str): The name of the image from the `bw_images` dictionary.\n",
    "    k (int): The number of singular values to retain for compression.\n",
    "    \"\"\"\n",
    "    # Ensure that SVD has been computed for the image\n",
    "    compute_svd(Image_Name)\n",
    "    \n",
    "    # Retrieve the precomputed SVD from cache\n",
    "    U, S, Vt = svd_cache[Image_Name]\n",
    "    \n",
    "    # Retain the top k singular values and corresponding vectors\n",
    "    U_k = U[:, :k]\n",
    "    S_k = np.diag(S[:k])\n",
    "    Vt_k = Vt[:k, :]\n",
    "    \n",
    "    # Reconstruct the compressed image\n",
    "    compressed_image = U_k @ S_k @ Vt_k\n",
    "    \n",
    "    # Plot Singular values and Cumulative sum in two subplots\n",
    "    fig, axs = plt.subplots(1, 2, figsize=[16,6])\n",
    "\n",
    "    # Plot singular values on a semilog scale\n",
    "    axs[0].semilogy(S)\n",
    "    axs[0].set_title(\"Singular Values\")\n",
    "    \n",
    "    # Plot cumulative sum of singular values\n",
    "    axs[1].plot(np.cumsum(S) / np.sum(S))\n",
    "    axs[1].plot(k, np.sum(S[:k]) / np.sum(S), marker='*', ls='none', ms=12, label=f'Top {k} Singular Values')\n",
    "    axs[1].set_title(\"Cumulative Sum of Singular Values\")\n",
    "    axs[1].legend()\n",
    "\n",
    "    plt.show()\n",
    "\n",
    "    # Plot original and compressed images side by side\n",
    "    fig = plt.figure(figsize=(18, 18))\n",
    "\n",
    "    # Show the original image\n",
    "    fig.add_subplot(1, 2, 1)\n",
    "    plt.title(f\"Original Image - {Image_Name}\")\n",
    "    plt.imshow(bw_images[Image_Name], cmap=plt.cm.gray)\n",
    "    plt.axis('off')\n",
    "\n",
    "    # Show the compressed image\n",
    "    fig.add_subplot(1, 2, 2)\n",
    "    plt.title(f\"Compressed Image - {Image_Name} (Top {k} Singular Values)\")\n",
    "    plt.imshow(compressed_image, cmap=plt.cm.gray)\n",
    "    plt.axis('off')\n",
    "    plt.show()\n",
    "    \n",
    "    # Calculate and print the compression ratio\n",
    "    dim1 = bw_images[Image_Name].shape\n",
    "    size1 = dim1[0] * dim1[1]\n",
    "    print(f\"Original Image Size (in pixels): {size1}\")\n",
    "    \n",
    "    size2 = dim1[0] * k + k + k * dim1[1]\n",
    "    print(f\"Compressed Image Size (in pixels): {size2}\")\n",
    "    \n",
    "    ratio = round(size1 / size2, 2)\n",
    "    print(f\"Compression Ratio: {ratio}\")\n",
    "\n",
    "# Call compute_svd on all images once during initialization\n",
    "for image_name in bw_images.keys():\n",
    "    compute_svd(image_name)\n",
    "\n",
    "# Example of calling the function interactively\n",
    "interact(compress_bw_image, Image_Name=list(bw_images.keys()), k=(1, 600))\n"
   ]
  },
  {
   "cell_type": "markdown",
   "metadata": {},
   "source": [
    "## Section 2: Color Images"
   ]
  },
  {
   "cell_type": "code",
   "execution_count": 6,
   "metadata": {},
   "outputs": [],
   "source": [
    "# This time, we'll be reading in the images normally. Using the same set of images for both Black and White and Color image compression\n",
    "\n",
    "color_images = {\n",
    "    \"Bird\" : io.imread('./images/Bird.jpg'),\n",
    "    \"Chandelier\" : io.imread('./images/Chandelier.jpg'),\n",
    "    \"Flowers\" : io.imread('./images/Flowers.jpg'),\n",
    "    \"Tree\" : io.imread('./images/Tree.jpg'),\n",
    "    \"Waterfall\" : io.imread('./images/Waterfall.jpg')\n",
    "}"
   ]
  },
  {
   "cell_type": "code",
   "execution_count": 7,
   "metadata": {},
   "outputs": [
    {
     "data": {
      "application/vnd.jupyter.widget-view+json": {
       "model_id": "d78f51b422a749c5b940fd5343ddb13c",
       "version_major": 2,
       "version_minor": 0
      },
      "text/plain": [
       "interactive(children=(Dropdown(description='Image_Name', options=('Bird', 'Chandelier', 'Flowers', 'Tree', 'Wa…"
      ]
     },
     "metadata": {},
     "output_type": "display_data"
    },
    {
     "data": {
      "text/plain": [
       "<function __main__.show_color_images(Image_Name)>"
      ]
     },
     "execution_count": 7,
     "metadata": {},
     "output_type": "execute_result"
    }
   ],
   "source": [
    "# Showing image in widgets\n",
    "\n",
    "def show_color_images(Image_Name):\n",
    "    fig = plt.figure(figsize=(18, 18))\n",
    "    plt.title(\"Image Name: \"+Image_Name+\"\\n\")\n",
    "    plt.imshow(color_images[Image_Name])  # picking the right color scale for display \n",
    "    plt.axis('off')\n",
    "    plt.show()\n",
    "    \n",
    "interact(show_color_images, Image_Name = list(color_images.keys()))\n"
   ]
  },
  {
   "cell_type": "code",
   "execution_count": 8,
   "metadata": {},
   "outputs": [
    {
     "name": "stdout",
     "output_type": "stream",
     "text": [
      "Bird - (5184, 3456, 3)\n",
      "Chandelier - (3415, 5122, 3)\n",
      "Flowers - (7329, 5497, 3)\n",
      "Tree - (6000, 4000, 3)\n",
      "Waterfall - (3334, 5000, 3)\n"
     ]
    }
   ],
   "source": [
    "\n",
    "# Checking the dimensions of each image to give an idea of how many singular values are present\n",
    "\n",
    "for image in color_images.keys():\n",
    "    print(f\"{image} - {color_images[image].shape}\")"
   ]
  },
  {
   "cell_type": "markdown",
   "metadata": {},
   "source": [
    "Here you can see that there's a difference in the number of dimensions when compared to the Black and White images. Now you have 3 dimensions instead of 2, where the third dimension contains the color channel for the image (RGB). So, in order to perform compression, we need to do it individually for each color channel and then finally combine it."
   ]
  },
  {
   "cell_type": "code",
   "execution_count": 9,
   "metadata": {},
   "outputs": [],
   "source": [
    "def compress_color_image(Image_Name, k): \n",
    "        \n",
    "    fig = plt.figure(figsize=(18, 18))\n",
    "    \n",
    "    # Showing the original image\n",
    "    fig.add_subplot(1, 2, 1)\n",
    "    plt.title(f\"Original Image - {Image_Name}\")\n",
    "    plt.imshow(color_images[Image_Name])\n",
    "    plt.axis('off')\n",
    "    \n",
    "    # Breaking the 3d matrix into 3 2d matrices - 1 for each color channel\n",
    "    r = color_images[Image_Name][:,:,0]\n",
    "    g = color_images[Image_Name][:,:,1]\n",
    "    b = color_images[Image_Name][:,:,2]\n",
    "    \n",
    "    # Performing SVD for each matrix\n",
    "    Ur, Sr, Vr = np.linalg.svd(r, full_matrices = True)\n",
    "    Ug, Sg, Vg = np.linalg.svd(g, full_matrices = True)\n",
    "    Ub, Sb, Vb = np.linalg.svd(b, full_matrices = True)\n",
    "    \n",
    "    # Compressing all the matrices individually\n",
    "    ur = Ur[:, 0:k]\n",
    "    vr = Vr[0:k]\n",
    "    \n",
    "    ug = Ug[:, 0:k]\n",
    "    vg = Vg[0:k]\n",
    "    \n",
    "    ub = Ub[:, 0:k]\n",
    "    vb = Vb[0:k]\n",
    "    \n",
    "    compressed_image_red = ur @ np.diag(Sr[0:k]) @ vr\n",
    "    compressed_image_green = ug @ np.diag(Sg[0:k]) @ vg\n",
    "    compressed_image_blue = ub @ np.diag(Sb[0:k]) @ vb\n",
    "    \n",
    "    # Combining the three 2D matrices into a single 3D matrix\n",
    "    compressed_image = np.zeros(color_images[Image_Name].shape)\n",
    "    compressed_image[:,:,0] = compressed_image_red\n",
    "    compressed_image[:,:,1] = compressed_image_green\n",
    "    compressed_image[:,:,2] = compressed_image_blue\n",
    "    \n",
    "    # Converting the values in the matrix to be in the range [0,255]\n",
    "    compressed_image_final = np.array(compressed_image/np.amax(compressed_image)*255, np.int32)\n",
    "  \n",
    "    # Showing the compressed image\n",
    "    fig.add_subplot(1, 2, 2)\n",
    "    plt.title(f\"Compressed Image - {Image_Name} (Top {k} Singular values)\")\n",
    "    plt.imshow(compressed_image_final.astype('uint8'))\n",
    "    plt.axis('off')\n",
    "    plt.show()\n",
    "    \n",
    "    # Showing the compression ratio\n",
    "    dim1 = color_images[Image_Name].shape\n",
    "    size1 = dim1[0]*dim1[1]\n",
    "    print(f\"Original Image Size (in pixels)- {size1}\")\n",
    "    size2 = min(dim1)*k + k + k*max(dim1)\n",
    "    print(f\"Compressed Image Size (in pixels)- {size2}\")\n",
    "    ratio = round(size1/size2,2)\n",
    "    print(f\"Compression Ratio - {ratio}\")    "
   ]
  },
  {
   "cell_type": "code",
   "execution_count": 10,
   "metadata": {},
   "outputs": [
    {
     "data": {
      "application/vnd.jupyter.widget-view+json": {
       "model_id": "2473be31d59444c29e4eb8d220e0f1a9",
       "version_major": 2,
       "version_minor": 0
      },
      "text/plain": [
       "interactive(children=(Dropdown(description='Image_Name', options=('Bird', 'Chandelier', 'Flowers', 'Tree', 'Wa…"
      ]
     },
     "metadata": {},
     "output_type": "display_data"
    },
    {
     "data": {
      "text/plain": [
       "<function __main__.compress_color_image(Image_Name, k)>"
      ]
     },
     "execution_count": 10,
     "metadata": {},
     "output_type": "execute_result"
    }
   ],
   "source": [
    "interact(compress_color_image, Image_Name = list(color_images.keys()), k = (0,600))"
   ]
  },
  {
   "cell_type": "markdown",
   "metadata": {},
   "source": [
    "The difference between original and compressed images is more apparent for lower rank approximations for colored images than for Black and White images. \n",
    "But neverthless, using SVD, we can compress the image considerably by picking the top features of the image (top k singular values) without noticing visible changes in the quality of the image."
   ]
  },
  {
   "cell_type": "markdown",
   "metadata": {},
   "source": [
    "## Credits\n",
    "https://web.stanford.edu/class/cs168/l/l9.pdf\n",
    "http://timbaumann.info/svd-image-compression-demo/"
   ]
  },
  {
   "cell_type": "markdown",
   "metadata": {},
   "source": []
  }
 ],
 "metadata": {
  "kernelspec": {
   "display_name": "ML-env",
   "language": "python",
   "name": "python3"
  },
  "language_info": {
   "codemirror_mode": {
    "name": "ipython",
    "version": 3
   },
   "file_extension": ".py",
   "mimetype": "text/x-python",
   "name": "python",
   "nbconvert_exporter": "python",
   "pygments_lexer": "ipython3",
   "version": "3.13.1"
  }
 },
 "nbformat": 4,
 "nbformat_minor": 2
}
